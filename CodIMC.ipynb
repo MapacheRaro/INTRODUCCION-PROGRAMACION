{
 "cells": [
  {
   "cell_type": "markdown",
   "metadata": {},
   "source": [
    "<h1>CODIGO CALCULADORA IMC EN PYTHON </h1>"
   ]
  },
  {
   "cell_type": "code",
   "execution_count": null,
   "metadata": {},
   "outputs": [],
   "source": [
    "def calcular_imc(peso, altura):\n",
    "    imc = peso / (altura ** 2)\n",
    "    return imc\n",
    "\n",
    "def clasificacion_imc(imc):\n",
    "    if imc < 18.5:\n",
    "        return \"Bajo peso\"\n",
    "    elif 18.5 <= imc < 24.9:\n",
    "        return \"Peso normal\"\n",
    "    elif 25 <= imc < 29.9:\n",
    "        return \"Sobrepeso\"\n",
    "    else:\n",
    "        return \"Obesidad\"\n",
    "\n",
    "peso = float(input(\"Introduce tu peso en kg: \"))\n",
    "altura = float(input(\"Introduce tu altura en metros: \"))\n",
    "\n",
    "imc = calcular_imc(peso, altura)\n",
    "clasificacion = clasificacion_imc(imc)\n",
    "\n",
    "print(f\"Tu IMC es: {imc:.2f}\")\n",
    "print(f\"Clasificación: {clasificacion}\")"
   ]
  },
  {
   "cell_type": "markdown",
   "metadata": {},
   "source": [
    "# Explicación del Código para Calcular el IMC\n",
    "\n",
    "## ¿Qué hace este código?\n",
    "\n",
    "Este código calcula el **Índice de Masa Corporal (IMC)** de una persona, que es una medida de la relación entre el peso y la altura. Dependiendo del resultado, el IMC se clasifica en diferentes categorías, como \"Peso normal\", \"Sobrepeso\" o \"Obesidad\".\n",
    "\n",
    "\n"
   ]
  },
  {
   "cell_type": "markdown",
   "metadata": {},
   "source": [
    "# 1 GENERA LA FUNCION DEL CALCULO DEL IMC \n",
    "### Esta se genera mediante la formula : $ \\text{IMC} = \\frac{\\text{peso}}{\\text{altura}^2} $. y se guarda en sus respectivas variables que son los argumentos de esta funcion. que mas adelante le daremos valores a estas variables mediante un Input por consola\n",
    "\n",
    "\n",
    "\n"
   ]
  },
  {
   "cell_type": "code",
   "execution_count": null,
   "metadata": {},
   "outputs": [],
   "source": [
    "def calcular_imc(peso, altura):\n",
    "    imc = peso / (altura ** 2)\n",
    "    return imc"
   ]
  },
  {
   "cell_type": "markdown",
   "metadata": {},
   "source": [
    "# 2 GENERA FUNCION DE IMC \n",
    "### Crea una funcion de condicionales para generar rangos  de IMC y devolver una cadena indicando si es peso bajo, normal, sobrepeso o obesivad.\n"
   ]
  },
  {
   "cell_type": "code",
   "execution_count": null,
   "metadata": {},
   "outputs": [],
   "source": [
    "def clasificacion_imc(imc):            #se define la función clasificacion_imc, que recibe el IMC.\n",
    "    if imc < 18.5:                     #si el IMC es menor que 18.5, se clasifica como \"Bajo peso\".\n",
    "        return \"Bajo peso\"          \n",
    "    elif 18.5 <= imc < 24.9:           #si el IMC está entre 18.5 y 24.9, se clasifica como \"Peso normal\".\n",
    "        return \"Peso normal\"\n",
    "    elif 25 <= imc < 29.9:             #si el IMC está entre 25 y 29.9, se clasifica como \"Sobrepeso\".\n",
    "        return \"Sobrepeso\"\n",
    "    else:                              #si el IMC es mayor o igual a 30, se clasifica como \"Obesidad\".\n",
    "        return \"Obesidad\"   "
   ]
  },
  {
   "cell_type": "markdown",
   "metadata": {},
   "source": [
    "# 3 Solicita datos al usuario\n",
    "### solicita datos de peso y altura y se guardan en estas variables siendo  float de tipo decimal seguido de la funcion input la cual recibira la entrada por la terminal del IDE y muestra texto en pantalla solicitando la informacion para la experiencia de usuario\n"
   ]
  },
  {
   "cell_type": "code",
   "execution_count": null,
   "metadata": {},
   "outputs": [],
   "source": [
    "peso = float(input(\"Introduce tu peso en kg: \"))\n",
    "altura = float(input(\"Introduce tu altura en metros: \"))"
   ]
  },
  {
   "cell_type": "markdown",
   "metadata": {},
   "source": [
    "# 4 CALCULA EL IMC Y OBTIENE SU CLASIFICACION\n",
    "### Llama la funcion de calcular con el input de peso y altura previamente ingresados y llama la funcion de clasificacion"
   ]
  },
  {
   "cell_type": "code",
   "execution_count": null,
   "metadata": {},
   "outputs": [],
   "source": [
    "imc = calcular_imc(peso, altura)\n",
    "clasificacion = clasificacion_imc(imc)"
   ]
  },
  {
   "cell_type": "markdown",
   "metadata": {},
   "source": [
    "# 5 Muestra el resultado\n",
    "### Utiliza la funcion print para  mostrar el resultado en la consola. seguido de una cadena de caracteres que indican que resultado es y al arrojar  el resultado en la consola en decimales se pone .2f para que sea el maximo de decimales mostrados en consola.\n",
    "\n"
   ]
  },
  {
   "cell_type": "code",
   "execution_count": null,
   "metadata": {},
   "outputs": [],
   "source": [
    "print(f\"Tu IMC es: {imc:.2f}\")\n",
    "print(f\"Clasificación: {clasificacion}\")"
   ]
  }
 ],
 "metadata": {
  "kernelspec": {
   "display_name": "Python 3",
   "language": "python",
   "name": "python3"
  },
  "language_info": {
   "codemirror_mode": {
    "name": "ipython",
    "version": 3
   },
   "file_extension": ".py",
   "mimetype": "text/x-python",
   "name": "python",
   "nbconvert_exporter": "python",
   "pygments_lexer": "ipython3",
   "version": "3.13.0"
  }
 },
 "nbformat": 4,
 "nbformat_minor": 2
}
