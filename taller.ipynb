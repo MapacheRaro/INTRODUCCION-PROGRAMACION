{
 "cells": [
  {
   "cell_type": "markdown",
   "metadata": {},
   "source": [
    "# Taller: Python\n",
    "\n",
    "**Objetivo**: Familiarizar con la sintaxis básica de Python y su aplicación en problemas sencillos.\n",
    "\n",
    "**Duración**: 1 hora"
   ]
  },
  {
   "cell_type": "markdown",
   "metadata": {},
   "source": [
    "## 1. Variables y Tipos de Datos\n",
    "\n",
    "### Ejemplos:\n",
    "\n",
    "```python\n",
    "# Declarando variables\n",
    "nombre = \"Juan\"\n",
    "edad = 25\n",
    "pi = 3.1416\n",
    "es_estudiante = True\n",
    "\n",
    "# Imprimiendo variables\n",
    "print(\"Nombre:\", nombre)\n",
    "print(\"Edad:\", edad)\n",
    "print(\"Valor de pi:\", pi)\n",
    "print(\"Es estudiante:\", es_estudiante)\n",
    "```\n"
   ]
  },
  {
   "cell_type": "code",
   "execution_count": 5,
   "metadata": {},
   "outputs": [
    {
     "name": "stdout",
     "output_type": "stream",
     "text": [
      "18 ° Grados centrigrados en  Popayán\n"
     ]
    }
   ],
   "source": [
    "# Ejercicio 1:\n",
    "# Declara las siguientes variables:\n",
    "# 1. Una variable llamada `ciudad` con el valor de tu ciudad.\n",
    "# 2. Una variable llamada `temperatura` con el valor de la temperatura actual.\n",
    "# Imprime ambas variables en una sola línea de código.\n",
    "\n",
    "# Tu código aquí:\n",
    "\n",
    "ciudad = \"Popayán\"\n",
    "temperatura = 18\n",
    "print(temperatura,\"° Grados centrigrados en \",ciudad)\n"
   ]
  },
  {
   "cell_type": "markdown",
   "metadata": {},
   "source": [
    "## 2. Operadores y Expresiones\n",
    "\n",
    "Operadores aritméticos y lógicos en Python.\n",
    "\n",
    "### Ejemplo:\n",
    "\n",
    "```python\n",
    "# Operadores aritméticos\n",
    "suma = 10 + 5\n",
    "resta = 10 - 3\n",
    "producto = 4 * 3\n",
    "division = 10 / 2\n",
    "modulo = 10 % 3\n",
    "\n",
    "# Operadores lógicos\n",
    "es_mayor = 10 > 5\n",
    "es_igual = 10 == 10\n",
    "es_menor = 3 < 2\n",
    "\n",
    "print(\"Suma:\", suma)\n",
    "print(\"Resta:\", resta)\n",
    "print(\"Producto:\", producto)\n",
    "print(\"División:\", division)\n",
    "print(\"Módulo:\", modulo)\n",
    "```\n"
   ]
  },
  {
   "cell_type": "code",
   "execution_count": 9,
   "metadata": {},
   "outputs": [
    {
     "name": "stdout",
     "output_type": "stream",
     "text": [
      "Su suma es  40\n",
      "La multiplicacion es  42\n",
      "Su division es  12.0\n",
      "20 Es mayor\n"
     ]
    }
   ],
   "source": [
    "# Ejercicio 2:\n",
    "# Realiza las siguientes operaciones:\n",
    "# 1. Suma 15 y 25\n",
    "# 2. Multiplica 7 por 6\n",
    "# 3. Divide 144 entre 12\n",
    "# 4. Comprueba si 20 es mayor que 10\n",
    "\n",
    "# Tu código aquí:\n",
    "primerPunto = 15 + 25\n",
    "segundoPunto = 7 * 6\n",
    "tercerPunto = 144/12\n",
    "print(\"Su suma es \",primerPunto)\n",
    "print(\"La multiplicacion es \", segundoPunto)\n",
    "print(\"Su division es \", tercerPunto)\n",
    "#cuartoPunto \n",
    "if 20 > 10:\n",
    "    print(\"20 Es mayor que 10\") \n",
    "else:\n",
    "    print(\"20 no es mayor que 10\")\n",
    "\n"
   ]
  }
 ],
 "metadata": {
  "kernelspec": {
   "display_name": "Python 3",
   "language": "python",
   "name": "python3"
  },
  "language_info": {
   "codemirror_mode": {
    "name": "ipython",
    "version": 3
   },
   "file_extension": ".py",
   "mimetype": "text/x-python",
   "name": "python",
   "nbconvert_exporter": "python",
   "pygments_lexer": "ipython3",
   "version": "3.13.0"
  }
 },
 "nbformat": 4,
 "nbformat_minor": 4
}
