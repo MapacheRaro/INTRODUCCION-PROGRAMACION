{
 "cells": [
  {
   "cell_type": "markdown",
   "metadata": {},
   "source": [
    "# Calculadora poligonos:\n",
    "##### Da como resultado el area de un cuadrado, un rectangulo o un  triangulo, dependiendo de los datos ingresados. Hecho con una sola funcion y un generador de arte ASCII para textos mediante funcion print.\n",
    "\n"
   ]
  },
  {
   "cell_type": "code",
   "execution_count": null,
   "metadata": {},
   "outputs": [],
   "source": [
    "def calculo_Poigono (base, altura, eleccion):\n",
    "    if eleccion == 1: \n",
    "        area = (base  * altura) / 2\n",
    "    elif eleccion ==2:\n",
    "        area = base * altura\n",
    "    elif eleccion == 3:\n",
    "        area = base ** 2\n",
    "    else:\n",
    "        return \"Opcion Invalida\"\n",
    "    return area\n",
    "print(\"\"\"\n",
    "   ____    _    _     ____ _   _ _        _    ____   ___  ____      _      ____  _____   ____   ___  _     ___ ____  ___  _   _  ___  ____  \n",
    "  / ___|  / \\  | |   / ___| | | | |      / \\  |  _ \\ / _ \\|  _ \\    / \\    |  _ \\| ____| |  _ \\ / _ \\| |   |_ _/ ___|/ _ \\| \\ | |/ _ \\/ ___| \n",
    " | |     / _ \\ | |  | |   | | | | |     / _ \\ | | | | | | | |_) |  / _ \\   | | | |  _|   | |_) | | | | |    | | |  _| | | |  \\| | | | \\___ \\ \n",
    " | |___ / ___ \\| |__| |___| |_| | |___ / ___ \\| |_| | |_| |  _ <  / ___ \\  | |_| | |___  |  __/| |_| | |___ | | |_| | |_| | |\\  | |_| |___) |\n",
    "  \\____/_/   \\_\\_____\\____|\\___/|_____/_/   \\_\\____/ \\___/|_| \\_\\/_/   \\_\\ |____/|_____| |_|    \\___/|_____|___\\____|\\___/|_| \\_|\\___/|____/ \n",
    "                                                                                                                                             \n",
    "\"\"\")\n",
    "\n",
    "print(\"\\033[1mCALCULADORA DE POLIGONO\\033[0m\")\n",
    "print(\"Digite el numero de la opcion para el tipo de poligolo: \")\n",
    "print(\"1 : Triangulo\")\n",
    "print(\"2 : Rectangulo\")\n",
    "print(\"3 : Cuadrado\")\n",
    "\n",
    "eleccion = int(input(\"Seleccion: \"))\n",
    "\n",
    "base = float(input(\"Escriba la base o lado: \"))\n",
    "\n",
    "if eleccion in [1,2]:\n",
    "    altura = float(input(\"Escriba la altura: \"))\n",
    "else:\n",
    "    altura = 0\n",
    "\n",
    "area = calculo_Poigono(base,altura, eleccion)\n",
    "print(\"El area del poligono es: \", area)\n",
    "\n",
    "print(\"\"\"\n",
    "BY:___   _   __  __ ___ _    ___    ___ ___ ___ _  _   _   _  _ ___  ___ ____\n",
    "  / __| /_\\ |  \\/  |_ _| |  / _ \\  | __| __| _ \\ \\| | /_\\ | \\| |   \\| __|_  /\n",
    " | (__ / _ \\| |\\/| || || |_| (_) | | _|| _||   / .` |/ _ \\| .` | |) | _| / / \n",
    "  \\___/_/ \\_\\_|  |_|___|____\\___/  |_| |___|_|_\\_|\\_/_/ \\_\\_|\\_|___/|___/___|\n",
    "\"\"\")\n",
    "\n",
    "\n",
    "        \n",
    "\n"
   ]
  },
  {
   "cell_type": "markdown",
   "metadata": {},
   "source": [
    "### Creacion de Funcion para el calculo\n",
    "##### generamos la funcion con condicionales para la seleccion del calculo estos con valor numerico de tipo entero que el usuario digitaria por consola y devuelve  el resultado de la seleccion de calculo en la variable area\n",
    "\n"
   ]
  },
  {
   "cell_type": "code",
   "execution_count": null,
   "metadata": {},
   "outputs": [],
   "source": [
    "def calculo_Poigono (base, altura, eleccion):\n",
    "    if eleccion == 1: \n",
    "        area = (base  * altura) / 2\n",
    "    elif eleccion ==2:\n",
    "        area = base * altura\n",
    "    elif eleccion == 3:\n",
    "        area = base ** 2\n",
    "    else:\n",
    "        return \"Opcion Invalida\"\n",
    "    return area"
   ]
  },
  {
   "cell_type": "markdown",
   "metadata": {},
   "source": [
    "##### Generar codigo ASCII para generar una especie de interaz desde la consola utilizando caracteres. \n",
    "##### Para esto se utilizo una pagina web que genera  el codigo ASCII. Y para generar caracteres en texto de varias lineas el \"\"\" o ''' al inicio y cierre de la cadena de caracteres. Se imprimen por consola los comandos para el calculo que el usario debe dibitar seguido del titulo\n",
    "\n",
    "➡️ [✨ Click aquí para visitar la pagina de generador ASCII ✨](https://www.creativefabrica.com/es/tools/ascii-art-generator/?text=CAMILO+FERNANDEZ)\n",
    "\n"
   ]
  },
  {
   "cell_type": "code",
   "execution_count": null,
   "metadata": {},
   "outputs": [],
   "source": [
    "print(\"\"\"\n",
    "   ____    _    _     ____ _   _ _        _    ____   ___  ____      _      ____  _____   ____   ___  _     ___ ____  ___  _   _  ___  ____  \n",
    "  / ___|  / \\  | |   / ___| | | | |      / \\  |  _ \\ / _ \\|  _ \\    / \\    |  _ \\| ____| |  _ \\ / _ \\| |   |_ _/ ___|/ _ \\| \\ | |/ _ \\/ ___| \n",
    " | |     / _ \\ | |  | |   | | | | |     / _ \\ | | | | | | | |_) |  / _ \\   | | | |  _|   | |_) | | | | |    | | |  _| | | |  \\| | | | \\___ \\ \n",
    " | |___ / ___ \\| |__| |___| |_| | |___ / ___ \\| |_| | |_| |  _ <  / ___ \\  | |_| | |___  |  __/| |_| | |___ | | |_| | |_| | |\\  | |_| |___) |\n",
    "  \\____/_/   \\_\\_____\\____|\\___/|_____/_/   \\_\\____/ \\___/|_| \\_\\/_/   \\_\\ |____/|_____| |_|    \\___/|_____|___\\____|\\___/|_| \\_|\\___/|____/ \n",
    "                                                                                                                                             \n",
    "\"\"\")\n",
    "print(\"\\033[1mCALCULADORA DE POLIGONO\\033[0m\")\n",
    "print(\"Digite el numero de la opcion para el tipo de poligolo: \")\n",
    "print(\"1 : Triangulo\")\n",
    "print(\"2 : Rectangulo\")\n",
    "print(\"3 : Cuadrado\")"
   ]
  },
  {
   "cell_type": "markdown",
   "metadata": {},
   "source": [
    "### Por ultimo se reciben los datos del usuario siendo de tipo entero para la seleccion y decimal para altura o base. Por ultimo se llama a la funcion  para calcular el area y se imprime por consola."
   ]
  },
  {
   "cell_type": "code",
   "execution_count": null,
   "metadata": {},
   "outputs": [],
   "source": [
    "eleccion = int(input(\"Seleccion: \"))\n",
    "\n",
    "base = float(input(\"Escriba la base o lado: \"))\n",
    "\n",
    "if eleccion in [1,2]:\n",
    "    altura = float(input(\"Escriba la altura: \"))\n",
    "else:\n",
    "    altura = 0\n",
    "\n",
    "area = calculo_Poigono(base,altura, eleccion)\n",
    "print(\"El area del poligono es: \", area)"
   ]
  }
 ],
 "metadata": {
  "kernelspec": {
   "display_name": "Python 3",
   "language": "python",
   "name": "python3"
  },
  "language_info": {
   "name": "python",
   "version": "3.13.0"
  }
 },
 "nbformat": 4,
 "nbformat_minor": 2
}
